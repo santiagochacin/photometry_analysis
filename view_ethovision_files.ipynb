{
 "cells": [
  {
   "cell_type": "code",
   "execution_count": 1,
   "metadata": {},
   "outputs": [
    {
     "data": {
      "text/html": [
       "<style>.container { width:100% !important; }</style>"
      ],
      "text/plain": [
       "<IPython.core.display.HTML object>"
      ]
     },
     "metadata": {},
     "output_type": "display_data"
    }
   ],
   "source": [
    "from IPython.core.display import display, HTML\n",
    "display(HTML(\"<style>.container { width:100% !important; }</style>\"))\n",
    "from importlib import reload\n",
    "import pandas as pd\n",
    "import numpy as np\n",
    "get_ipython().magic('matplotlib qt5')\n",
    "import matplotlib.pyplot as plt"
   ]
  },
  {
   "cell_type": "code",
   "execution_count": 2,
   "metadata": {},
   "outputs": [
    {
     "name": "stdout",
     "output_type": "stream",
     "text": [
      "       Digging Manual  Digging\n",
      "0                 0.0      0.0\n",
      "1                 0.0      0.0\n",
      "2                 0.0      0.0\n",
      "3                 0.0      0.0\n",
      "4                 0.0      0.0\n",
      "5                 0.0      0.0\n",
      "6                 0.0      0.0\n",
      "7                 0.0      0.0\n",
      "8                 0.0      0.0\n",
      "9                 0.0      0.0\n",
      "10                0.0      0.0\n",
      "11                0.0      0.0\n",
      "12                0.0      0.0\n",
      "13                0.0      0.0\n",
      "14                0.0      0.0\n",
      "15                0.0      0.0\n",
      "16                0.0      0.0\n",
      "17                0.0      0.0\n",
      "18                0.0      0.0\n",
      "19                0.0      0.0\n",
      "20                0.0      0.0\n",
      "21                0.0      0.0\n",
      "22                0.0      0.0\n",
      "23                0.0      0.0\n",
      "24                0.0      0.0\n",
      "25                0.0      0.0\n",
      "26                0.0      0.0\n",
      "27                0.0      0.0\n",
      "28                0.0      0.0\n",
      "29                0.0      0.0\n",
      "...               ...      ...\n",
      "26848             0.0      0.0\n",
      "26849             0.0      0.0\n",
      "26850             0.0      0.0\n",
      "26851             0.0      0.0\n",
      "26852             0.0      0.0\n",
      "26853             0.0      0.0\n",
      "26854             0.0      0.0\n",
      "26855             0.0      0.0\n",
      "26856             0.0      0.0\n",
      "26857             0.0      0.0\n",
      "26858             0.0      0.0\n",
      "26859             0.0      0.0\n",
      "26860             0.0      0.0\n",
      "26861             0.0      0.0\n",
      "26862             0.0      0.0\n",
      "26863             0.0      0.0\n",
      "26864             0.0      0.0\n",
      "26865             0.0      0.0\n",
      "26866             0.0      0.0\n",
      "26867             0.0      0.0\n",
      "26868             0.0      0.0\n",
      "26869             0.0      0.0\n",
      "26870             0.0      0.0\n",
      "26871             0.0      0.0\n",
      "26872             0.0      0.0\n",
      "26873             0.0      0.0\n",
      "26874             0.0      0.0\n",
      "26875             0.0      0.0\n",
      "26876             0.0      0.0\n",
      "26877             0.0      0.0\n",
      "\n",
      "[26878 rows x 2 columns]\n"
     ]
    }
   ],
   "source": [
    "#use if 1st trial including manual\n",
    "data = pd.read_excel (r'C:\\Users\\Santiago PC\\Documents\\Photometry Data S2\\07102019\\Raw data-07102019_Ai96d1cre002-Trial     1.xlsx', skiprows=32, sheet_name=0)\n",
    "df = pd.DataFrame(data, columns= ['Digging Manual','Digging'])\n",
    "df['Digging Manual'] = df['Digging Manual'].fillna(0)\n",
    "df['Digging'] = df['Digging'].fillna(0)\n",
    "print (df)"
   ]
  },
  {
   "cell_type": "code",
   "execution_count": null,
   "metadata": {},
   "outputs": [],
   "source": [
    "#New trial against completed manual\n",
    "data = pd.read_excel (r'C:\\Users\\Santiago PC\\Documents\\Ethovision Raw\\Raw data-07082019_Ai90D1cre001-Trial     3.xlsx', skiprows=34, sheet_name=0)\n",
    "datam = pd.read_excel (r'C:\\Users\\Santiago PC\\Documents\\Ethovision Raw\\Raw data-07082019_Ai90D1cre001-Trial     3.xlsx', skiprows=34, sheet_name=0)\n",
    "df = pd.DataFrame(data, columns= ['Digging'])\n",
    "dfm = pd.DataFrame(datam, columns= ['digging'])\n",
    "df['Digging'] = df['Digging'].fillna(0)\n",
    "dfm['digging'] = dfm['digging'].fillna(0)\n",
    "print (df, dfm)\n"
   ]
  },
  {
   "cell_type": "code",
   "execution_count": 3,
   "metadata": {},
   "outputs": [],
   "source": [
    "plt.scatter(df['Digging Manual'], df['Digging'])\n",
    "plt.show()"
   ]
  },
  {
   "cell_type": "code",
   "execution_count": 4,
   "metadata": {},
   "outputs": [
    {
     "data": {
      "text/plain": [
       "Text(0.5,1,'Ethovision -Ai90D1Cre/95%/2 Sec-')"
      ]
     },
     "execution_count": 4,
     "metadata": {},
     "output_type": "execute_result"
    }
   ],
   "source": [
    "#use if 1st trial with manual included\n",
    "plt.plot(df['Digging Manual'], alpha=0.7)\n",
    "plt.plot(df['Digging'], alpha=0.7)\n",
    "plt.show()\n",
    "plt.title('Ethovision -Ai90D1Cre/95%/2 Sec-')"
   ]
  },
  {
   "cell_type": "code",
   "execution_count": null,
   "metadata": {},
   "outputs": [],
   "source": [
    "#new trial against completed manual\n",
    "plt.plot(df['Digging Manual'], alpha=0.7)\n",
    "plt.plot(dfm['Digging'], alpha=0.7)\n",
    "plt.show()\n",
    "plt.title('Ethovision --')\n"
   ]
  },
  {
   "cell_type": "code",
   "execution_count": null,
   "metadata": {},
   "outputs": [],
   "source": [
    "#correlation\n",
    "df['Digging'].corr(dfm['Digging Manual'])"
   ]
  },
  {
   "cell_type": "code",
   "execution_count": null,
   "metadata": {},
   "outputs": [],
   "source": [
    "#correlation\n",
    "df['Digging'].corr(df['digging'])"
   ]
  },
  {
   "cell_type": "code",
   "execution_count": null,
   "metadata": {},
   "outputs": [],
   "source": [
    "#scraps\n",
    "df.replace('-', np.nan)\n",
    "df['Digging'] = df['Digging'].fillna(0)\n",
    "df['Digging Manual'] = df['Digging Manual'].fillna(0)\n",
    "\n",
    "\n",
    "\n",
    "data = pd.read_excel (r'C:\\Users\\Santiago PC\\Documents\\Raw data-06262019 Test-Trial     2nodash.xlsx', skiprows=34, sheet_name=0)\n",
    "df = pd.DataFrame(data, columns= ['Digging', 'Digging Manual'])\n",
    "df['Digging'] = df['Digging'].fillna(0)\n",
    "df['Digging Manual'] = df['Digging Manual'].fillna(0)\n",
    "print (df)"
   ]
  },
  {
   "cell_type": "code",
   "execution_count": null,
   "metadata": {},
   "outputs": [],
   "source": [
    "## Formatting to String"
   ]
  },
  {
   "cell_type": "code",
   "execution_count": null,
   "metadata": {},
   "outputs": [],
   "source": [
    "print(df.to_string())"
   ]
  },
  {
   "cell_type": "code",
   "execution_count": null,
   "metadata": {},
   "outputs": [],
   "source": [
    "file_path_1 = r'Raw data-02192019 Digging Test-Trial     1.xlsx'"
   ]
  },
  {
   "cell_type": "code",
   "execution_count": null,
   "metadata": {},
   "outputs": [],
   "source": [
    "ethovision_df1 = pd.read_excel(file_path_1, skiprows=34, sheet_name=0) "
   ]
  },
  {
   "cell_type": "code",
   "execution_count": null,
   "metadata": {},
   "outputs": [],
   "source": [
    "ethovision_df1_behavior = read_ethovision.read_ethovision_dataframe(file_path_1, 34, ['Velocity', 'Acceleration', 'Digging', 'Digging Manual'])"
   ]
  },
  {
   "cell_type": "code",
   "execution_count": null,
   "metadata": {},
   "outputs": [],
   "source": [
    "file_path_2 = r'Raw data-02192019 Digging Test-Trial     2.xlsx'"
   ]
  },
  {
   "cell_type": "code",
   "execution_count": null,
   "metadata": {
    "scrolled": true
   },
   "outputs": [],
   "source": [
    "#loads 2nd sheet of other spreadsheet\n",
    "ethovision_df2 = pd.read_excel(file_path_2, skiprows=34, sheet_name=1) "
   ]
  },
  {
   "cell_type": "code",
   "execution_count": null,
   "metadata": {},
   "outputs": [],
   "source": [
    "#remove row \"0\"\n",
    "ethovision_df1 = ethovision_df1[1:]\n",
    "ethovision_df2 = ethovision_df2[1:]"
   ]
  },
  {
   "cell_type": "code",
   "execution_count": null,
   "metadata": {},
   "outputs": [],
   "source": [
    "#check if looks good \n",
    "ethovision_df1.head()"
   ]
  },
  {
   "cell_type": "code",
   "execution_count": null,
   "metadata": {},
   "outputs": [],
   "source": [
    "plt.plot(ethovision_df1['Digging '].values)\n",
    "plt.show()"
   ]
  },
  {
   "cell_type": "code",
   "execution_count": null,
   "metadata": {},
   "outputs": [],
   "source": [
    "#get start and stop times\n",
    "digging_start_times = ethovision_df2[ethovision_df2['Event'].str.contains('state start')]['Recording time'].values\n",
    "digging_stop_times = ethovision_df2[ethovision_df2['Event'].str.contains('state stop')]['Recording time'].values"
   ]
  },
  {
   "cell_type": "code",
   "execution_count": null,
   "metadata": {},
   "outputs": [],
   "source": [
    "ethovision_df1['Recording time'].values"
   ]
  },
  {
   "cell_type": "code",
   "execution_count": null,
   "metadata": {},
   "outputs": [],
   "source": [
    "digging_start_times "
   ]
  },
  {
   "cell_type": "code",
   "execution_count": null,
   "metadata": {},
   "outputs": [],
   "source": [
    " digging_stop_times"
   ]
  },
  {
   "cell_type": "code",
   "execution_count": null,
   "metadata": {},
   "outputs": [],
   "source": [
    "new_list = np.array([])\n",
    "\n",
    "new_list = np.concatenate((new_list, np.zeros(np.where(ethovision_df1['Recording time'].values == digging_start_times[0])[0][0])), axis=0)\n",
    "for j in range(1,len(digging_start_times)-1):\n",
    "    new_list = np.concatenate((new_list, \n",
    "                   np.ones(np.where(ethovision_df1['Recording time'].values == digging_stop_times[j])[0][0] - np.where(ethovision_df1['Recording time'].values == digging_start_times[j])[0][0])),\n",
    "                  axis=0)\n",
    "    new_list = np.concatenate((new_list, \n",
    "                   np.zeros(np.where(ethovision_df1['Recording time'].values == digging_start_times[j+1])[0][0] - np.where(ethovision_df1['Recording time'].values == digging_stop_times[j])[0][0])),\n",
    "                  axis=0)\n",
    "    \n",
    "manual_score = np.pad(new_list, (0, len(ethovision_df1_behavior['Digging'].values)- len(new_list)), 'constant', constant_values=(0,0))      "
   ]
  },
  {
   "cell_type": "code",
   "execution_count": null,
   "metadata": {},
   "outputs": [],
   "source": [
    "plt.plot(manual_score)\n",
    "plt.show()"
   ]
  },
  {
   "cell_type": "code",
   "execution_count": null,
   "metadata": {},
   "outputs": [],
   "source": [
    "plt.plot(ethovision_df1['Recording time'].values, manual_score)"
   ]
  },
  {
   "cell_type": "code",
   "execution_count": null,
   "metadata": {},
   "outputs": [],
   "source": [
    "plt.plot(ethovision_df1['Recording time'].values, ethovision_df1_behavior['Digging'].values)\n",
    "plt.show()"
   ]
  },
  {
   "cell_type": "code",
   "execution_count": null,
   "metadata": {},
   "outputs": [],
   "source": [
    "plt.plot(ethovision_df1['Recording time'].values, manual_score, alpha=0.7)\n",
    "plt.plot(ethovision_df1['Recording time'].values, ethovision_df1_behavior['Digging'].values, alpha=0.7)\n",
    "plt.show()"
   ]
  },
  {
   "cell_type": "code",
   "execution_count": null,
   "metadata": {},
   "outputs": [],
   "source": []
  },
  {
   "cell_type": "code",
   "execution_count": null,
   "metadata": {
    "scrolled": true
   },
   "outputs": [],
   "source": [
    "pd.tools.plotting.scatter_matrix(ethocombination_df, alpha=0.2, figsize=(6,6), diagonal='hist')"
   ]
  },
  {
   "cell_type": "code",
   "execution_count": null,
   "metadata": {},
   "outputs": [],
   "source": [
    "List1 = list(set(ethovision_df1['Digging'])) \n",
    "List2 = list(set(ethovision_df1['Digging'])) \n"
   ]
  },
  {
   "cell_type": "code",
   "execution_count": null,
   "metadata": {},
   "outputs": [],
   "source": [
    "Ethocombination = [List1,List2]"
   ]
  },
  {
   "cell_type": "code",
   "execution_count": null,
   "metadata": {},
   "outputs": [],
   "source": [
    "Ethocombination = pd.DataFrame(np.column_stack([List1,List2]), \n",
    "                               columns=['Automatic','Manual'])"
   ]
  },
  {
   "cell_type": "code",
   "execution_count": null,
   "metadata": {},
   "outputs": [],
   "source": [
    "ethovision_df1[]"
   ]
  },
  {
   "cell_type": "code",
   "execution_count": null,
   "metadata": {},
   "outputs": [],
   "source": [
    "plt.scatter(Ethocombination['Automatic'].values, Ethocombination['Manual'].values)\n",
    "plt.show()"
   ]
  },
  {
   "cell_type": "code",
   "execution_count": null,
   "metadata": {},
   "outputs": [],
   "source": []
  }
 ],
 "metadata": {
  "kernelspec": {
   "display_name": "Python 3",
   "language": "python",
   "name": "python3"
  },
  "language_info": {
   "codemirror_mode": {
    "name": "ipython",
    "version": 3
   },
   "file_extension": ".py",
   "mimetype": "text/x-python",
   "name": "python",
   "nbconvert_exporter": "python",
   "pygments_lexer": "ipython3",
   "version": "3.6.5"
  }
 },
 "nbformat": 4,
 "nbformat_minor": 2
}
