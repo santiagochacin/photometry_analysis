{
 "cells": [
  {
   "cell_type": "markdown",
   "metadata": {},
   "source": [
    "# Script to demodulate photometry experiment collected with Axon digidata "
   ]
  },
  {
   "cell_type": "code",
   "execution_count": 1,
   "metadata": {
    "scrolled": false
   },
   "outputs": [
    {
     "data": {
      "text/html": [
       "<style>.container { width:100% !important; }</style>"
      ],
      "text/plain": [
       "<IPython.core.display.HTML object>"
      ]
     },
     "metadata": {},
     "output_type": "display_data"
    },
    {
     "name": "stderr",
     "output_type": "stream",
     "text": [
      "C:\\Anaconda3\\lib\\site-packages\\h5py\\__init__.py:36: FutureWarning: Conversion of the second argument of issubdtype from `float` to `np.floating` is deprecated. In future, it will be treated as `np.float64 == np.dtype(float).type`.\n",
      "  from ._conv import register_converters as _register_converters\n"
     ]
    }
   ],
   "source": [
    "## additional packages needed to run\n",
    "from importlib import reload\n",
    "from IPython.core.display import display, HTML\n",
    "display(HTML(\"<style>.container { width:100% !important; }</style>\"))\n",
    "import sys \n",
    "import neo \n",
    "from neo import io\n",
    "import pandas as pd\n",
    "import numpy as np\n",
    "import yaml\n",
    "import sys \n",
    "import photometry_3\n",
    "get_ipython().magic('matplotlib qt')\n",
    "#%matplotlib qt5\n",
    "import matplotlib.pyplot as plt"
   ]
  },
  {
   "cell_type": "code",
   "execution_count": 2,
   "metadata": {},
   "outputs": [],
   "source": [
    "## function for plotting graphs from stored data \n",
    "def plot_multiple_sweeps_from_class(class_name, df_to_load, sweeps_list, channels_list, window, wspace=0.1, hspace=0.1, \n",
    "                                    X_axis_column=None, X_label=None, Y_labels=None, _inline=False):\n",
    "    \"\"\"Inputs: \n",
    "    window (tuple of time values)\"\"\" \n",
    "    if sweeps_list == 'all':\n",
    "        sweeps_to_plot = sorted(list(set(df_to_load.index.get_level_values(0))))\n",
    "    else:\n",
    "        sweeps_to_plot = sweeps_list\n",
    "    windowed_start = int(window[0]*class_name.Fs)\n",
    "    windowed_end = len(df_to_load.loc[sweeps_to_plot[0]][str(channels_list[0])]) - int(window[1]*class_name.Fs)\n",
    "    if _inline == False:\n",
    "        %matplotlib qt5\n",
    "    else: \n",
    "        %matplotlib inline\n",
    "    plt.subplots_adjust(wspace, hspace)\n",
    "    \n",
    "    \n",
    "    # sweeps are plotted by column\n",
    "    column_num = int(len(sweeps_to_plot))\n",
    "    # channels are plotted by row\n",
    "    row_num = int(len(channels_list))\n",
    "    subplot_index = 1\n",
    "    for channel_to_plot in range(len(channels_list)):\n",
    "        for sweep in range(len(sweeps_to_plot)):\n",
    "            plt.subplot(row_num, column_num, subplot_index)\n",
    "            if X_axis_column:\n",
    "                plt.plot(df_to_load.loc[str(sweeps_to_plot[sweep])][str(X_axis_column)].as_matrix()[windowed_start:windowed_end],\n",
    "                        df_to_load.loc[str(sweeps_to_plot[sweep])][str(channels_list[channel_to_plot])].as_matrix()[windowed_start:windowed_end])\n",
    "            else:\n",
    "                plt.plot(df_to_load.loc[str(sweeps_to_plot[sweep])][str(channels_list[channel_to_plot])].as_matrix()[windowed_start:windowed_end])\n",
    "            if X_label:\n",
    "                plt.xlabel(X_label)\n",
    "            if Y_labels:\n",
    "                plt.ylabel(str(Y_labels[subplot_index]))\n",
    "            else:\n",
    "                plt.ylabel(str(channels_list[channel_to_plot]))\n",
    "            subplot_index += 1\n",
    "                           \n",
    "    plt.show()\n",
    "    return()\n",
    "    "
   ]
  },
  {
   "cell_type": "markdown",
   "metadata": {},
   "source": [
    "## input .abf file to load "
   ]
  },
  {
   "cell_type": "code",
   "execution_count": 7,
   "metadata": {
    "scrolled": true
   },
   "outputs": [],
   "source": [
    "#input path to file \n",
    "file = r'C:\\Users\\Santiago PC\\Documents\\Photometry Data S2\\07102019\\19710002.abf'\n",
    "file_to_load = file\n",
    "fname_for_saving = file.rstrip('.abf')\n",
    "#use True or False to indicate if the experiment has rotary endocder data or not\n",
    "#if True, also pass list with encoder channels\n",
    "#need to add a column that has time according to run not just per sweep \n",
    "_recording = photometry_3.raw_photometry_file(file_to_load, .1, False)"
   ]
  },
  {
   "cell_type": "code",
   "execution_count": 8,
   "metadata": {
    "scrolled": true
   },
   "outputs": [
    {
     "data": {
      "text/html": [
       "<div>\n",
       "<style scoped>\n",
       "    .dataframe tbody tr th:only-of-type {\n",
       "        vertical-align: middle;\n",
       "    }\n",
       "\n",
       "    .dataframe tbody tr th {\n",
       "        vertical-align: top;\n",
       "    }\n",
       "\n",
       "    .dataframe thead th {\n",
       "        text-align: right;\n",
       "    }\n",
       "</style>\n",
       "<table border=\"1\" class=\"dataframe\">\n",
       "  <thead>\n",
       "    <tr style=\"text-align: right;\">\n",
       "      <th></th>\n",
       "      <th></th>\n",
       "      <th>channel_0</th>\n",
       "      <th>channel_1</th>\n",
       "      <th>channel_2</th>\n",
       "      <th>channel_3</th>\n",
       "      <th>time</th>\n",
       "    </tr>\n",
       "    <tr>\n",
       "      <th>sweep</th>\n",
       "      <th></th>\n",
       "      <th></th>\n",
       "      <th></th>\n",
       "      <th></th>\n",
       "      <th></th>\n",
       "      <th></th>\n",
       "    </tr>\n",
       "  </thead>\n",
       "  <tbody>\n",
       "    <tr>\n",
       "      <th rowspan=\"30\" valign=\"top\">sweep001</th>\n",
       "      <th>0</th>\n",
       "      <td>4.931335</td>\n",
       "      <td>0.000305</td>\n",
       "      <td>0.000305</td>\n",
       "      <td>0.023193</td>\n",
       "      <td>0.0000</td>\n",
       "    </tr>\n",
       "    <tr>\n",
       "      <th>1</th>\n",
       "      <td>4.930420</td>\n",
       "      <td>-0.000305</td>\n",
       "      <td>0.000000</td>\n",
       "      <td>0.019836</td>\n",
       "      <td>0.0001</td>\n",
       "    </tr>\n",
       "    <tr>\n",
       "      <th>2</th>\n",
       "      <td>4.930725</td>\n",
       "      <td>-0.000305</td>\n",
       "      <td>0.000000</td>\n",
       "      <td>0.025940</td>\n",
       "      <td>0.0002</td>\n",
       "    </tr>\n",
       "    <tr>\n",
       "      <th>3</th>\n",
       "      <td>4.930725</td>\n",
       "      <td>-0.000305</td>\n",
       "      <td>0.000000</td>\n",
       "      <td>0.024414</td>\n",
       "      <td>0.0003</td>\n",
       "    </tr>\n",
       "    <tr>\n",
       "      <th>4</th>\n",
       "      <td>4.931641</td>\n",
       "      <td>0.000916</td>\n",
       "      <td>0.000305</td>\n",
       "      <td>0.018921</td>\n",
       "      <td>0.0004</td>\n",
       "    </tr>\n",
       "    <tr>\n",
       "      <th>5</th>\n",
       "      <td>4.931335</td>\n",
       "      <td>-0.000305</td>\n",
       "      <td>0.000305</td>\n",
       "      <td>0.016174</td>\n",
       "      <td>0.0005</td>\n",
       "    </tr>\n",
       "    <tr>\n",
       "      <th>6</th>\n",
       "      <td>4.930420</td>\n",
       "      <td>-0.000305</td>\n",
       "      <td>0.000000</td>\n",
       "      <td>0.007324</td>\n",
       "      <td>0.0006</td>\n",
       "    </tr>\n",
       "    <tr>\n",
       "      <th>7</th>\n",
       "      <td>4.931030</td>\n",
       "      <td>0.000000</td>\n",
       "      <td>0.000305</td>\n",
       "      <td>0.028687</td>\n",
       "      <td>0.0007</td>\n",
       "    </tr>\n",
       "    <tr>\n",
       "      <th>8</th>\n",
       "      <td>4.933472</td>\n",
       "      <td>0.000916</td>\n",
       "      <td>0.000000</td>\n",
       "      <td>0.012817</td>\n",
       "      <td>0.0008</td>\n",
       "    </tr>\n",
       "    <tr>\n",
       "      <th>9</th>\n",
       "      <td>4.934387</td>\n",
       "      <td>0.000610</td>\n",
       "      <td>0.000000</td>\n",
       "      <td>0.013428</td>\n",
       "      <td>0.0009</td>\n",
       "    </tr>\n",
       "    <tr>\n",
       "      <th>10</th>\n",
       "      <td>0.028992</td>\n",
       "      <td>-0.000305</td>\n",
       "      <td>0.000000</td>\n",
       "      <td>0.016479</td>\n",
       "      <td>0.0010</td>\n",
       "    </tr>\n",
       "    <tr>\n",
       "      <th>11</th>\n",
       "      <td>0.028076</td>\n",
       "      <td>-0.000610</td>\n",
       "      <td>0.000305</td>\n",
       "      <td>0.012207</td>\n",
       "      <td>0.0011</td>\n",
       "    </tr>\n",
       "    <tr>\n",
       "      <th>12</th>\n",
       "      <td>0.028076</td>\n",
       "      <td>0.000000</td>\n",
       "      <td>0.000305</td>\n",
       "      <td>0.017395</td>\n",
       "      <td>0.0012</td>\n",
       "    </tr>\n",
       "    <tr>\n",
       "      <th>13</th>\n",
       "      <td>0.028076</td>\n",
       "      <td>0.000305</td>\n",
       "      <td>0.000000</td>\n",
       "      <td>0.024414</td>\n",
       "      <td>0.0013</td>\n",
       "    </tr>\n",
       "    <tr>\n",
       "      <th>14</th>\n",
       "      <td>0.028076</td>\n",
       "      <td>0.000305</td>\n",
       "      <td>0.000305</td>\n",
       "      <td>0.016174</td>\n",
       "      <td>0.0014</td>\n",
       "    </tr>\n",
       "    <tr>\n",
       "      <th>15</th>\n",
       "      <td>0.027466</td>\n",
       "      <td>-0.000916</td>\n",
       "      <td>0.000000</td>\n",
       "      <td>0.015259</td>\n",
       "      <td>0.0015</td>\n",
       "    </tr>\n",
       "    <tr>\n",
       "      <th>16</th>\n",
       "      <td>0.028076</td>\n",
       "      <td>0.000000</td>\n",
       "      <td>0.000000</td>\n",
       "      <td>0.033569</td>\n",
       "      <td>0.0016</td>\n",
       "    </tr>\n",
       "    <tr>\n",
       "      <th>17</th>\n",
       "      <td>0.028076</td>\n",
       "      <td>0.000305</td>\n",
       "      <td>0.000000</td>\n",
       "      <td>0.018616</td>\n",
       "      <td>0.0017</td>\n",
       "    </tr>\n",
       "    <tr>\n",
       "      <th>18</th>\n",
       "      <td>0.028076</td>\n",
       "      <td>-0.000305</td>\n",
       "      <td>0.000000</td>\n",
       "      <td>0.025024</td>\n",
       "      <td>0.0018</td>\n",
       "    </tr>\n",
       "    <tr>\n",
       "      <th>19</th>\n",
       "      <td>0.028076</td>\n",
       "      <td>-0.000305</td>\n",
       "      <td>-0.000305</td>\n",
       "      <td>0.018311</td>\n",
       "      <td>0.0019</td>\n",
       "    </tr>\n",
       "    <tr>\n",
       "      <th>20</th>\n",
       "      <td>0.028381</td>\n",
       "      <td>-0.000305</td>\n",
       "      <td>0.000305</td>\n",
       "      <td>0.010986</td>\n",
       "      <td>0.0020</td>\n",
       "    </tr>\n",
       "    <tr>\n",
       "      <th>21</th>\n",
       "      <td>0.028687</td>\n",
       "      <td>0.000000</td>\n",
       "      <td>0.000000</td>\n",
       "      <td>0.033264</td>\n",
       "      <td>0.0021</td>\n",
       "    </tr>\n",
       "    <tr>\n",
       "      <th>22</th>\n",
       "      <td>0.028381</td>\n",
       "      <td>0.000305</td>\n",
       "      <td>0.000000</td>\n",
       "      <td>0.020142</td>\n",
       "      <td>0.0022</td>\n",
       "    </tr>\n",
       "    <tr>\n",
       "      <th>23</th>\n",
       "      <td>0.028992</td>\n",
       "      <td>-0.000610</td>\n",
       "      <td>-0.000305</td>\n",
       "      <td>0.018311</td>\n",
       "      <td>0.0023</td>\n",
       "    </tr>\n",
       "    <tr>\n",
       "      <th>24</th>\n",
       "      <td>0.028076</td>\n",
       "      <td>-0.000305</td>\n",
       "      <td>-0.000305</td>\n",
       "      <td>0.017395</td>\n",
       "      <td>0.0024</td>\n",
       "    </tr>\n",
       "    <tr>\n",
       "      <th>25</th>\n",
       "      <td>0.028381</td>\n",
       "      <td>0.000610</td>\n",
       "      <td>-0.000610</td>\n",
       "      <td>0.018921</td>\n",
       "      <td>0.0025</td>\n",
       "    </tr>\n",
       "    <tr>\n",
       "      <th>26</th>\n",
       "      <td>0.028076</td>\n",
       "      <td>0.000000</td>\n",
       "      <td>-0.000610</td>\n",
       "      <td>0.017700</td>\n",
       "      <td>0.0026</td>\n",
       "    </tr>\n",
       "    <tr>\n",
       "      <th>27</th>\n",
       "      <td>0.028076</td>\n",
       "      <td>-0.000305</td>\n",
       "      <td>-0.000305</td>\n",
       "      <td>0.042419</td>\n",
       "      <td>0.0027</td>\n",
       "    </tr>\n",
       "    <tr>\n",
       "      <th>28</th>\n",
       "      <td>0.028687</td>\n",
       "      <td>-0.000916</td>\n",
       "      <td>0.000000</td>\n",
       "      <td>0.025330</td>\n",
       "      <td>0.0028</td>\n",
       "    </tr>\n",
       "    <tr>\n",
       "      <th>29</th>\n",
       "      <td>0.028076</td>\n",
       "      <td>0.000000</td>\n",
       "      <td>-0.000305</td>\n",
       "      <td>0.028381</td>\n",
       "      <td>0.0029</td>\n",
       "    </tr>\n",
       "    <tr>\n",
       "      <th>...</th>\n",
       "      <th>...</th>\n",
       "      <td>...</td>\n",
       "      <td>...</td>\n",
       "      <td>...</td>\n",
       "      <td>...</td>\n",
       "      <td>...</td>\n",
       "    </tr>\n",
       "    <tr>\n",
       "      <th rowspan=\"30\" valign=\"top\">sweep008</th>\n",
       "      <th>1029970</th>\n",
       "      <td>0.027161</td>\n",
       "      <td>-0.000305</td>\n",
       "      <td>-0.000305</td>\n",
       "      <td>0.037842</td>\n",
       "      <td>102.9970</td>\n",
       "    </tr>\n",
       "    <tr>\n",
       "      <th>1029971</th>\n",
       "      <td>0.027466</td>\n",
       "      <td>0.000305</td>\n",
       "      <td>-0.000305</td>\n",
       "      <td>0.029907</td>\n",
       "      <td>102.9971</td>\n",
       "    </tr>\n",
       "    <tr>\n",
       "      <th>1029972</th>\n",
       "      <td>0.026855</td>\n",
       "      <td>-0.000610</td>\n",
       "      <td>0.000305</td>\n",
       "      <td>0.030823</td>\n",
       "      <td>102.9972</td>\n",
       "    </tr>\n",
       "    <tr>\n",
       "      <th>1029973</th>\n",
       "      <td>0.027771</td>\n",
       "      <td>-0.000610</td>\n",
       "      <td>0.000000</td>\n",
       "      <td>0.018921</td>\n",
       "      <td>102.9973</td>\n",
       "    </tr>\n",
       "    <tr>\n",
       "      <th>1029974</th>\n",
       "      <td>0.027771</td>\n",
       "      <td>-0.000305</td>\n",
       "      <td>-0.000610</td>\n",
       "      <td>0.018616</td>\n",
       "      <td>102.9974</td>\n",
       "    </tr>\n",
       "    <tr>\n",
       "      <th>1029975</th>\n",
       "      <td>0.026855</td>\n",
       "      <td>0.000305</td>\n",
       "      <td>-0.000305</td>\n",
       "      <td>0.003357</td>\n",
       "      <td>102.9975</td>\n",
       "    </tr>\n",
       "    <tr>\n",
       "      <th>1029976</th>\n",
       "      <td>0.027161</td>\n",
       "      <td>-0.001526</td>\n",
       "      <td>-0.000305</td>\n",
       "      <td>0.001831</td>\n",
       "      <td>102.9976</td>\n",
       "    </tr>\n",
       "    <tr>\n",
       "      <th>1029977</th>\n",
       "      <td>0.027466</td>\n",
       "      <td>-0.000916</td>\n",
       "      <td>-0.000610</td>\n",
       "      <td>0.017090</td>\n",
       "      <td>102.9977</td>\n",
       "    </tr>\n",
       "    <tr>\n",
       "      <th>1029978</th>\n",
       "      <td>0.026855</td>\n",
       "      <td>0.000305</td>\n",
       "      <td>0.000000</td>\n",
       "      <td>0.017700</td>\n",
       "      <td>102.9978</td>\n",
       "    </tr>\n",
       "    <tr>\n",
       "      <th>1029979</th>\n",
       "      <td>0.027161</td>\n",
       "      <td>0.000000</td>\n",
       "      <td>-0.000305</td>\n",
       "      <td>0.024719</td>\n",
       "      <td>102.9979</td>\n",
       "    </tr>\n",
       "    <tr>\n",
       "      <th>1029980</th>\n",
       "      <td>0.027466</td>\n",
       "      <td>-0.001221</td>\n",
       "      <td>-0.000305</td>\n",
       "      <td>0.017700</td>\n",
       "      <td>102.9980</td>\n",
       "    </tr>\n",
       "    <tr>\n",
       "      <th>1029981</th>\n",
       "      <td>0.027161</td>\n",
       "      <td>0.000916</td>\n",
       "      <td>0.000916</td>\n",
       "      <td>0.018616</td>\n",
       "      <td>102.9981</td>\n",
       "    </tr>\n",
       "    <tr>\n",
       "      <th>1029982</th>\n",
       "      <td>0.027466</td>\n",
       "      <td>0.000305</td>\n",
       "      <td>0.000000</td>\n",
       "      <td>0.015564</td>\n",
       "      <td>102.9982</td>\n",
       "    </tr>\n",
       "    <tr>\n",
       "      <th>1029983</th>\n",
       "      <td>0.027466</td>\n",
       "      <td>-0.000610</td>\n",
       "      <td>-0.000305</td>\n",
       "      <td>0.018005</td>\n",
       "      <td>102.9983</td>\n",
       "    </tr>\n",
       "    <tr>\n",
       "      <th>1029984</th>\n",
       "      <td>0.026855</td>\n",
       "      <td>-0.000305</td>\n",
       "      <td>0.000305</td>\n",
       "      <td>0.032654</td>\n",
       "      <td>102.9984</td>\n",
       "    </tr>\n",
       "    <tr>\n",
       "      <th>1029985</th>\n",
       "      <td>0.027161</td>\n",
       "      <td>-0.000305</td>\n",
       "      <td>-0.000610</td>\n",
       "      <td>0.024719</td>\n",
       "      <td>102.9985</td>\n",
       "    </tr>\n",
       "    <tr>\n",
       "      <th>1029986</th>\n",
       "      <td>0.026855</td>\n",
       "      <td>0.000610</td>\n",
       "      <td>0.000305</td>\n",
       "      <td>0.025635</td>\n",
       "      <td>102.9986</td>\n",
       "    </tr>\n",
       "    <tr>\n",
       "      <th>1029987</th>\n",
       "      <td>0.026855</td>\n",
       "      <td>-0.000305</td>\n",
       "      <td>0.000000</td>\n",
       "      <td>0.026550</td>\n",
       "      <td>102.9987</td>\n",
       "    </tr>\n",
       "    <tr>\n",
       "      <th>1029988</th>\n",
       "      <td>0.027771</td>\n",
       "      <td>-0.001221</td>\n",
       "      <td>-0.000305</td>\n",
       "      <td>0.011597</td>\n",
       "      <td>102.9988</td>\n",
       "    </tr>\n",
       "    <tr>\n",
       "      <th>1029989</th>\n",
       "      <td>0.026550</td>\n",
       "      <td>0.000610</td>\n",
       "      <td>0.000610</td>\n",
       "      <td>0.007935</td>\n",
       "      <td>102.9989</td>\n",
       "    </tr>\n",
       "    <tr>\n",
       "      <th>1029990</th>\n",
       "      <td>0.026855</td>\n",
       "      <td>0.000000</td>\n",
       "      <td>0.000000</td>\n",
       "      <td>0.015869</td>\n",
       "      <td>102.9990</td>\n",
       "    </tr>\n",
       "    <tr>\n",
       "      <th>1029991</th>\n",
       "      <td>0.026550</td>\n",
       "      <td>-0.000610</td>\n",
       "      <td>0.000000</td>\n",
       "      <td>0.028076</td>\n",
       "      <td>102.9991</td>\n",
       "    </tr>\n",
       "    <tr>\n",
       "      <th>1029992</th>\n",
       "      <td>0.026550</td>\n",
       "      <td>-0.000305</td>\n",
       "      <td>-0.000305</td>\n",
       "      <td>0.025024</td>\n",
       "      <td>102.9992</td>\n",
       "    </tr>\n",
       "    <tr>\n",
       "      <th>1029993</th>\n",
       "      <td>0.027161</td>\n",
       "      <td>-0.000305</td>\n",
       "      <td>-0.000610</td>\n",
       "      <td>0.008545</td>\n",
       "      <td>102.9993</td>\n",
       "    </tr>\n",
       "    <tr>\n",
       "      <th>1029994</th>\n",
       "      <td>0.027466</td>\n",
       "      <td>-0.000305</td>\n",
       "      <td>0.000000</td>\n",
       "      <td>0.025330</td>\n",
       "      <td>102.9994</td>\n",
       "    </tr>\n",
       "    <tr>\n",
       "      <th>1029995</th>\n",
       "      <td>0.026855</td>\n",
       "      <td>-0.000916</td>\n",
       "      <td>0.000000</td>\n",
       "      <td>0.020142</td>\n",
       "      <td>102.9995</td>\n",
       "    </tr>\n",
       "    <tr>\n",
       "      <th>1029996</th>\n",
       "      <td>0.027466</td>\n",
       "      <td>-0.000305</td>\n",
       "      <td>-0.000916</td>\n",
       "      <td>0.005188</td>\n",
       "      <td>102.9996</td>\n",
       "    </tr>\n",
       "    <tr>\n",
       "      <th>1029997</th>\n",
       "      <td>0.026855</td>\n",
       "      <td>0.000305</td>\n",
       "      <td>-0.000305</td>\n",
       "      <td>0.032959</td>\n",
       "      <td>102.9997</td>\n",
       "    </tr>\n",
       "    <tr>\n",
       "      <th>1029998</th>\n",
       "      <td>0.026855</td>\n",
       "      <td>-0.000610</td>\n",
       "      <td>0.000000</td>\n",
       "      <td>0.024719</td>\n",
       "      <td>102.9998</td>\n",
       "    </tr>\n",
       "    <tr>\n",
       "      <th>1029999</th>\n",
       "      <td>0.028076</td>\n",
       "      <td>-0.000610</td>\n",
       "      <td>-0.000916</td>\n",
       "      <td>0.019531</td>\n",
       "      <td>102.9999</td>\n",
       "    </tr>\n",
       "  </tbody>\n",
       "</table>\n",
       "<p>8240000 rows × 5 columns</p>\n",
       "</div>"
      ],
      "text/plain": [
       "                  channel_0  channel_1  channel_2  channel_3      time\n",
       "sweep                                                                 \n",
       "sweep001 0         4.931335   0.000305   0.000305   0.023193    0.0000\n",
       "         1         4.930420  -0.000305   0.000000   0.019836    0.0001\n",
       "         2         4.930725  -0.000305   0.000000   0.025940    0.0002\n",
       "         3         4.930725  -0.000305   0.000000   0.024414    0.0003\n",
       "         4         4.931641   0.000916   0.000305   0.018921    0.0004\n",
       "         5         4.931335  -0.000305   0.000305   0.016174    0.0005\n",
       "         6         4.930420  -0.000305   0.000000   0.007324    0.0006\n",
       "         7         4.931030   0.000000   0.000305   0.028687    0.0007\n",
       "         8         4.933472   0.000916   0.000000   0.012817    0.0008\n",
       "         9         4.934387   0.000610   0.000000   0.013428    0.0009\n",
       "         10        0.028992  -0.000305   0.000000   0.016479    0.0010\n",
       "         11        0.028076  -0.000610   0.000305   0.012207    0.0011\n",
       "         12        0.028076   0.000000   0.000305   0.017395    0.0012\n",
       "         13        0.028076   0.000305   0.000000   0.024414    0.0013\n",
       "         14        0.028076   0.000305   0.000305   0.016174    0.0014\n",
       "         15        0.027466  -0.000916   0.000000   0.015259    0.0015\n",
       "         16        0.028076   0.000000   0.000000   0.033569    0.0016\n",
       "         17        0.028076   0.000305   0.000000   0.018616    0.0017\n",
       "         18        0.028076  -0.000305   0.000000   0.025024    0.0018\n",
       "         19        0.028076  -0.000305  -0.000305   0.018311    0.0019\n",
       "         20        0.028381  -0.000305   0.000305   0.010986    0.0020\n",
       "         21        0.028687   0.000000   0.000000   0.033264    0.0021\n",
       "         22        0.028381   0.000305   0.000000   0.020142    0.0022\n",
       "         23        0.028992  -0.000610  -0.000305   0.018311    0.0023\n",
       "         24        0.028076  -0.000305  -0.000305   0.017395    0.0024\n",
       "         25        0.028381   0.000610  -0.000610   0.018921    0.0025\n",
       "         26        0.028076   0.000000  -0.000610   0.017700    0.0026\n",
       "         27        0.028076  -0.000305  -0.000305   0.042419    0.0027\n",
       "         28        0.028687  -0.000916   0.000000   0.025330    0.0028\n",
       "         29        0.028076   0.000000  -0.000305   0.028381    0.0029\n",
       "...                     ...        ...        ...        ...       ...\n",
       "sweep008 1029970   0.027161  -0.000305  -0.000305   0.037842  102.9970\n",
       "         1029971   0.027466   0.000305  -0.000305   0.029907  102.9971\n",
       "         1029972   0.026855  -0.000610   0.000305   0.030823  102.9972\n",
       "         1029973   0.027771  -0.000610   0.000000   0.018921  102.9973\n",
       "         1029974   0.027771  -0.000305  -0.000610   0.018616  102.9974\n",
       "         1029975   0.026855   0.000305  -0.000305   0.003357  102.9975\n",
       "         1029976   0.027161  -0.001526  -0.000305   0.001831  102.9976\n",
       "         1029977   0.027466  -0.000916  -0.000610   0.017090  102.9977\n",
       "         1029978   0.026855   0.000305   0.000000   0.017700  102.9978\n",
       "         1029979   0.027161   0.000000  -0.000305   0.024719  102.9979\n",
       "         1029980   0.027466  -0.001221  -0.000305   0.017700  102.9980\n",
       "         1029981   0.027161   0.000916   0.000916   0.018616  102.9981\n",
       "         1029982   0.027466   0.000305   0.000000   0.015564  102.9982\n",
       "         1029983   0.027466  -0.000610  -0.000305   0.018005  102.9983\n",
       "         1029984   0.026855  -0.000305   0.000305   0.032654  102.9984\n",
       "         1029985   0.027161  -0.000305  -0.000610   0.024719  102.9985\n",
       "         1029986   0.026855   0.000610   0.000305   0.025635  102.9986\n",
       "         1029987   0.026855  -0.000305   0.000000   0.026550  102.9987\n",
       "         1029988   0.027771  -0.001221  -0.000305   0.011597  102.9988\n",
       "         1029989   0.026550   0.000610   0.000610   0.007935  102.9989\n",
       "         1029990   0.026855   0.000000   0.000000   0.015869  102.9990\n",
       "         1029991   0.026550  -0.000610   0.000000   0.028076  102.9991\n",
       "         1029992   0.026550  -0.000305  -0.000305   0.025024  102.9992\n",
       "         1029993   0.027161  -0.000305  -0.000610   0.008545  102.9993\n",
       "         1029994   0.027466  -0.000305   0.000000   0.025330  102.9994\n",
       "         1029995   0.026855  -0.000916   0.000000   0.020142  102.9995\n",
       "         1029996   0.027466  -0.000305  -0.000916   0.005188  102.9996\n",
       "         1029997   0.026855   0.000305  -0.000305   0.032959  102.9997\n",
       "         1029998   0.026855  -0.000610   0.000000   0.024719  102.9998\n",
       "         1029999   0.028076  -0.000610  -0.000916   0.019531  102.9999\n",
       "\n",
       "[8240000 rows x 5 columns]"
      ]
     },
     "execution_count": 8,
     "metadata": {},
     "output_type": "execute_result"
    }
   ],
   "source": [
    "_recording.class_df"
   ]
  },
  {
   "cell_type": "code",
   "execution_count": 9,
   "metadata": {
    "scrolled": true
   },
   "outputs": [
    {
     "name": "stdout",
     "output_type": "stream",
     "text": [
      "Warning: Cannot change to a different GUI toolkit: qt5. Using qt instead.\n"
     ]
    },
    {
     "name": "stderr",
     "output_type": "stream",
     "text": [
      "C:\\Anaconda3\\lib\\site-packages\\ipykernel_launcher.py:28: FutureWarning: Method .as_matrix will be removed in a future version. Use .values instead.\n",
      "C:\\Anaconda3\\lib\\site-packages\\ipykernel_launcher.py:29: FutureWarning: Method .as_matrix will be removed in a future version. Use .values instead.\n"
     ]
    },
    {
     "data": {
      "text/plain": [
       "()"
      ]
     },
     "execution_count": 9,
     "metadata": {},
     "output_type": "execute_result"
    }
   ],
   "source": [
    "# plot sweeps (class_name, df, list of sweeps to load or 'all', list of channels, time to window, \n",
    "# borderspace, headspace, column name to use for x axis, y axis label, inline plotting=True/False)\n",
    "# use _recording.cont_df for rotary encoder data _recording.class_df if none \n",
    "plot_multiple_sweeps_from_class(_recording, _recording.class_df, ['sweep001']\n",
    "                                , ['channel_0', 'channel_1','channel_2','channel_3'], (0,0), 0.1,\n",
    "                               0.1, 'time', 'time (seconds)', 'detector power', False)"
   ]
  },
  {
   "cell_type": "code",
   "execution_count": 10,
   "metadata": {},
   "outputs": [
    {
     "data": {
      "text/plain": [
       "True"
      ]
     },
     "execution_count": 10,
     "metadata": {},
     "output_type": "execute_result"
    }
   ],
   "source": [
    "#save df to .hdf5 file\n",
    "fname_for_saving = file.rstrip('.abf')\n",
    "_recording.save_to_hdf(fname_for_saving) "
   ]
  },
  {
   "cell_type": "markdown",
   "metadata": {},
   "source": [
    "# load demodulation parameters from file and run demodulation"
   ]
  },
  {
   "cell_type": "code",
   "execution_count": 11,
   "metadata": {},
   "outputs": [],
   "source": [
    "# default parameters are stored in 'default_photometry_params.yml' in photometry_3.0 folder \n",
    "with open('default_photometry_params.yml', 'r') as stream:\n",
    "    params_for_demodulation_file = yaml.load(stream)"
   ]
  },
  {
   "cell_type": "code",
   "execution_count": 12,
   "metadata": {},
   "outputs": [
    {
     "name": "stdout",
     "output_type": "stream",
     "text": [
      "demodulating sweep sweep001\n",
      "prefilter channel 1\n",
      "demodulating channel 1\n"
     ]
    },
    {
     "name": "stderr",
     "output_type": "stream",
     "text": [
      "C:\\Users\\Santiago PC\\Documents\\Photometry Code S2\\photometry_analysis-master\\photometry_3.py:486: FutureWarning: Method .as_matrix will be removed in a future version. Use .values instead.\n",
      "  sweep_dict['time'] = file_df.loc[sweep]['time'].as_matrix()[windowed_start:windowed_end]\n",
      "C:\\Users\\Santiago PC\\Documents\\Photometry Code S2\\photometry_analysis-master\\photometry_3.py:489: FutureWarning: Method .as_matrix will be removed in a future version. Use .values instead.\n",
      "  encoder_windowed = file_df.loc[sweep][encoder_channel].as_matrix()[windowed_start:windowed_end]\n",
      "C:\\Users\\Santiago PC\\Documents\\Photometry Code S2\\photometry_analysis-master\\photometry_3.py:493: FutureWarning: Method .as_matrix will be removed in a future version. Use .values instead.\n",
      "  fluorescence_channel_1_windowed = file_df.loc[sweep][fluorescence_channel_1].as_matrix()[windowed_start:windowed_end]\n",
      "C:\\Users\\Santiago PC\\Documents\\Photometry Code S2\\photometry_analysis-master\\photometry_3.py:497: FutureWarning: Method .as_matrix will be removed in a future version. Use .values instead.\n",
      "  modulation_channel_1_windowed = file_df.loc[sweep][modulation_channel_1].as_matrix()[windowed_start:windowed_end]\n",
      "C:\\Users\\Santiago PC\\Documents\\Photometry Code S2\\photometry_analysis-master\\photometry_3.py:502: FutureWarning: Method .as_matrix will be removed in a future version. Use .values instead.\n",
      "  modulation_channel_2_windowed = file_df.loc[sweep][modulation_channel_2].as_matrix()[windowed_start:windowed_end]\n"
     ]
    },
    {
     "name": "stdout",
     "output_type": "stream",
     "text": [
      "demodulating/summing in quadrature channel 1\n",
      "prefilter channel 2\n",
      "demodulating channel 2\n",
      "demodulating/summing in quadrature channel 2\n",
      "sweep sweep001 done\n",
      "demodulating sweep sweep002\n",
      "prefilter channel 1\n",
      "demodulating channel 1\n",
      "demodulating/summing in quadrature channel 1\n",
      "prefilter channel 2\n",
      "demodulating channel 2\n",
      "demodulating/summing in quadrature channel 2\n",
      "sweep sweep002 done\n",
      "demodulating sweep sweep003\n",
      "prefilter channel 1\n",
      "demodulating channel 1\n",
      "demodulating/summing in quadrature channel 1\n",
      "prefilter channel 2\n",
      "demodulating channel 2\n",
      "demodulating/summing in quadrature channel 2\n",
      "sweep sweep003 done\n",
      "demodulating sweep sweep004\n",
      "prefilter channel 1\n",
      "demodulating channel 1\n",
      "demodulating/summing in quadrature channel 1\n",
      "prefilter channel 2\n",
      "demodulating channel 2\n",
      "demodulating/summing in quadrature channel 2\n",
      "sweep sweep004 done\n",
      "demodulating sweep sweep005\n",
      "prefilter channel 1\n",
      "demodulating channel 1\n",
      "demodulating/summing in quadrature channel 1\n",
      "prefilter channel 2\n",
      "demodulating channel 2\n",
      "demodulating/summing in quadrature channel 2\n",
      "sweep sweep005 done\n",
      "demodulating sweep sweep006\n",
      "prefilter channel 1\n",
      "demodulating channel 1\n",
      "demodulating/summing in quadrature channel 1\n",
      "prefilter channel 2\n",
      "demodulating channel 2\n",
      "demodulating/summing in quadrature channel 2\n",
      "sweep sweep006 done\n",
      "demodulating sweep sweep007\n",
      "prefilter channel 1\n",
      "demodulating channel 1\n",
      "demodulating/summing in quadrature channel 1\n",
      "prefilter channel 2\n",
      "demodulating channel 2\n",
      "demodulating/summing in quadrature channel 2\n",
      "sweep sweep007 done\n",
      "demodulating sweep sweep008\n",
      "prefilter channel 1\n",
      "demodulating channel 1\n",
      "demodulating/summing in quadrature channel 1\n",
      "prefilter channel 2\n",
      "demodulating channel 2\n",
      "demodulating/summing in quadrature channel 2\n",
      "sweep sweep008 done\n",
      "concactenating sweeps\n"
     ]
    }
   ],
   "source": [
    "# use _recording.cont_df for rotary encoder data _recording.class_df if none \n",
    "_recording_demod = _recording.demodulate_file(_recording.class_df, params_for_demodulation_file)"
   ]
  },
  {
   "cell_type": "code",
   "execution_count": null,
   "metadata": {
    "scrolled": false
   },
   "outputs": [],
   "source": []
  },
  {
   "cell_type": "code",
   "execution_count": 13,
   "metadata": {
    "scrolled": true
   },
   "outputs": [
    {
     "name": "stdout",
     "output_type": "stream",
     "text": [
      "Warning: Cannot change to a different GUI toolkit: qt5. Using qt instead.\n"
     ]
    },
    {
     "name": "stderr",
     "output_type": "stream",
     "text": [
      "C:\\Anaconda3\\lib\\site-packages\\ipykernel_launcher.py:28: FutureWarning: Method .as_matrix will be removed in a future version. Use .values instead.\n",
      "C:\\Anaconda3\\lib\\site-packages\\ipykernel_launcher.py:29: FutureWarning: Method .as_matrix will be removed in a future version. Use .values instead.\n"
     ]
    },
    {
     "data": {
      "text/plain": [
       "()"
      ]
     },
     "execution_count": 13,
     "metadata": {},
     "output_type": "execute_result"
    }
   ],
   "source": [
    "plot_multiple_sweeps_from_class(_recording_demod, _recording_demod.class_df, ['sweep001'],\n",
    "                                ['encoder_windowed', 'channel_1_demod', 'channel_2_demod'], (5,5), 0.1,\n",
    "                               0.1, 'time', 'time (seconds)', 'detector power', False)"
   ]
  },
  {
   "cell_type": "code",
   "execution_count": 14,
   "metadata": {},
   "outputs": [
    {
     "data": {
      "text/plain": [
       "True"
      ]
     },
     "execution_count": 14,
     "metadata": {},
     "output_type": "execute_result"
    }
   ],
   "source": [
    "#save df to .hdf5 file\n",
    "_recording_demod.save_to_hdf(fname_for_saving) "
   ]
  },
  {
   "cell_type": "markdown",
   "metadata": {},
   "source": [
    "# functions to calculate baseline/variance/smooth filter a given channel "
   ]
  },
  {
   "cell_type": "code",
   "execution_count": null,
   "metadata": {},
   "outputs": [],
   "source": [
    "#_recording_demod  = photometry_3.photometry_df_from_file('/Users/johnmarshall/Documents/Analysis/PhotometryData/October2018/10262018/18o26000demodulated.h5')\n",
    "#fname_for_saving = '/Users/johnmarshall/Documents/Analysis/PhotometryData/October2018/10262018/18o26000'"
   ]
  },
  {
   "cell_type": "code",
   "execution_count": 15,
   "metadata": {},
   "outputs": [],
   "source": [
    "class_name = _recording_demod\n",
    "df_input = _recording_demod.class_df\n",
    "channels_to_calc = ['channel_1_demod', 'channel_2_demod']\n",
    "window_time = (5,5)\n",
    "sliding_baseline_length = 2"
   ]
  },
  {
   "cell_type": "code",
   "execution_count": 16,
   "metadata": {
    "scrolled": false
   },
   "outputs": [
    {
     "name": "stdout",
     "output_type": "stream",
     "text": [
      "sweep001\n"
     ]
    },
    {
     "name": "stderr",
     "output_type": "stream",
     "text": [
      "C:\\Users\\Santiago PC\\Documents\\Photometry Code S2\\photometry_analysis-master\\photometry_3.py:624: FutureWarning: Method .as_matrix will be removed in a future version. Use .values instead.\n",
      "  sweep_dict[column_nv] = df_input.loc[sweep][column_nv].as_matrix()[windowed_start:windowed_end]\n",
      "C:\\Users\\Santiago PC\\Documents\\Photometry Code S2\\photometry_analysis-master\\photometry_3.py:627: FutureWarning: Method .as_matrix will be removed in a future version. Use .values instead.\n",
      "  array_length = len(df_input.loc[sweep]['time'].as_matrix()[windowed_start:windowed_end])\n",
      "C:\\Users\\Santiago PC\\Documents\\Photometry Code S2\\photometry_analysis-master\\photometry_3.py:653: FutureWarning: Method .as_matrix will be removed in a future version. Use .values instead.\n",
      "  toadd = F_f0(df_input.loc[sweep][column_v].as_matrix()[windowed_start:windowed_end], Fs, sliding_baseline_length)\n"
     ]
    },
    {
     "name": "stdout",
     "output_type": "stream",
     "text": [
      "sweep002\n",
      "sweep003\n",
      "sweep004\n",
      "sweep005\n",
      "sweep006\n",
      "sweep007\n",
      "sweep008\n"
     ]
    }
   ],
   "source": [
    "_recording_demod_F_F0 = photometry_3.transform_df(class_name, \n",
    "                                           channels_to_calc, \n",
    "                                           window_time, \n",
    "                                           {'F_F0': sliding_baseline_length})"
   ]
  },
  {
   "cell_type": "code",
   "execution_count": 17,
   "metadata": {},
   "outputs": [
    {
     "data": {
      "text/plain": [
       "True"
      ]
     },
     "execution_count": 17,
     "metadata": {},
     "output_type": "execute_result"
    }
   ],
   "source": [
    "#save df to .hdf5 file\n",
    "#fname_for_saving = '/Users/johnmarshall/Documents/Analysis/PhotometryData/August2018/08282018/18828000_F_F0.h5'\n",
    "_recording_demod_F_F0.save_to_hdf(fname_for_saving+'_F_F0') "
   ]
  },
  {
   "cell_type": "code",
   "execution_count": null,
   "metadata": {
    "scrolled": false
   },
   "outputs": [],
   "source": [
    "_recording_demod_F_F0.class_df.columns.values"
   ]
  },
  {
   "cell_type": "code",
   "execution_count": 18,
   "metadata": {
    "scrolled": true
   },
   "outputs": [
    {
     "name": "stdout",
     "output_type": "stream",
     "text": [
      "Warning: Cannot change to a different GUI toolkit: qt5. Using qt instead.\n"
     ]
    },
    {
     "name": "stderr",
     "output_type": "stream",
     "text": [
      "C:\\Anaconda3\\lib\\site-packages\\ipykernel_launcher.py:28: FutureWarning: Method .as_matrix will be removed in a future version. Use .values instead.\n",
      "C:\\Anaconda3\\lib\\site-packages\\ipykernel_launcher.py:29: FutureWarning: Method .as_matrix will be removed in a future version. Use .values instead.\n"
     ]
    },
    {
     "data": {
      "text/plain": [
       "()"
      ]
     },
     "execution_count": 18,
     "metadata": {},
     "output_type": "execute_result"
    }
   ],
   "source": [
    "plot_multiple_sweeps_from_class(_recording_demod_F_F0, _recording_demod_F_F0.class_df, ['sweep005'],\n",
    "                                ['encoder_windowed','channel_1_demod_F_F0', 'channel_2_demod_F_F0'], (0,0), 0.1,\n",
    "                               0.1, 'time', 'time (seconds)', 'detector power', False)"
   ]
  },
  {
   "cell_type": "code",
   "execution_count": 19,
   "metadata": {},
   "outputs": [],
   "source": [
    "class_name = _recording_demod_F_F0\n",
    "channels_to_calc = ['encoder_windowed']\n",
    "window_time = (0,0)"
   ]
  },
  {
   "cell_type": "code",
   "execution_count": 20,
   "metadata": {},
   "outputs": [
    {
     "name": "stdout",
     "output_type": "stream",
     "text": [
      "sweep001\n",
      "sweep002\n"
     ]
    },
    {
     "name": "stderr",
     "output_type": "stream",
     "text": [
      "C:\\Users\\Santiago PC\\Documents\\Photometry Code S2\\photometry_analysis-master\\photometry_3.py:624: FutureWarning: Method .as_matrix will be removed in a future version. Use .values instead.\n",
      "  sweep_dict[column_nv] = df_input.loc[sweep][column_nv].as_matrix()[windowed_start:windowed_end]\n",
      "C:\\Users\\Santiago PC\\Documents\\Photometry Code S2\\photometry_analysis-master\\photometry_3.py:627: FutureWarning: Method .as_matrix will be removed in a future version. Use .values instead.\n",
      "  array_length = len(df_input.loc[sweep]['time'].as_matrix()[windowed_start:windowed_end])\n"
     ]
    },
    {
     "name": "stdout",
     "output_type": "stream",
     "text": [
      "sweep003\n",
      "sweep004\n",
      "sweep005\n",
      "sweep006\n",
      "sweep007\n",
      "sweep008\n"
     ]
    }
   ],
   "source": [
    "_recording_demod_F_F0_endcodervariance = photometry_3.transform_df(class_name, \n",
    "                                           channels_to_calc, \n",
    "                                           window_time, \n",
    "                                           {'variance': 0})"
   ]
  },
  {
   "cell_type": "code",
   "execution_count": null,
   "metadata": {},
   "outputs": [],
   "source": [
    "_recording_demod_F_F0_endcodervariance.class_df.columns.values"
   ]
  },
  {
   "cell_type": "code",
   "execution_count": 21,
   "metadata": {},
   "outputs": [],
   "source": [
    "_recording_demod_F_F0_endcodervariance.class_df.to_hdf(r'C:\\Users\\Santiago PC\\Documents\\Photometry Data S2\\07102019\\19710002_F_F0.h5', key='df', mode='w')"
   ]
  },
  {
   "cell_type": "code",
   "execution_count": 22,
   "metadata": {},
   "outputs": [
    {
     "data": {
      "text/plain": [
       "True"
      ]
     },
     "execution_count": 22,
     "metadata": {},
     "output_type": "execute_result"
    }
   ],
   "source": [
    "#save df to .hdf5 file\n",
    "fname_for_saving = r'C:\\Users\\Santiago PC\\Documents\\Photometry Data S2\\07102019\\19710002_demodencodervariance'\n",
    "_recording_demod_F_F0_endcodervariance.save_to_hdf(fname_for_saving) "
   ]
  },
  {
   "cell_type": "code",
   "execution_count": null,
   "metadata": {
    "scrolled": true
   },
   "outputs": [],
   "source": [
    "plot_multiple_sweeps_from_class(_recording_demod_F_F0_endcodervariance, \n",
    "                                _recording_demod_F_F0_endcodervariance.class_df, ['sweep004'],\n",
    "                                ['encoder_windowed_variance','encoder_windowed', 'channel_1_demod_F_F0'], \n",
    "                                (10,10), 0.1,\n",
    "                               0.1, 'time', 'time (seconds)', 'detector power', False)"
   ]
  },
  {
   "cell_type": "markdown",
   "metadata": {},
   "source": [
    "# functions to align sweeps to threshold events "
   ]
  },
  {
   "cell_type": "code",
   "execution_count": null,
   "metadata": {},
   "outputs": [],
   "source": [
    "## need to trigger files \n",
    "\n",
    "\n",
    "def return_indicies(class_name, channel_to_trigger, amplitude_threshold, time_threshold, window_time):\n",
    "\n",
    "    \"\"\"\n",
    "    Input: \n",
    "            \n",
    "            window time in tuple as before    \n",
    "    \n",
    "    Output: numpy array of sample points from input channel where trace passes above threshold\n",
    "    \"\"\"\n",
    "    indicies_from_trigger_channel_by_sweep = {}\n",
    "    for sweep in sorted(list(set(class_name.class_df.index.get_level_values(0)))):\n",
    "        trace = class_name.class_df.loc[sweep][channel_to_trigger].values\n",
    "        event_number, sample_indicies = photometry_3.count_events_in_array(trace,\n",
    "                                                                 class_name.dt, \n",
    "                                                                 time_threshold, \n",
    "                                                                 amplitude_threshold)\n",
    "        # remove sample indicies outside of \"window\"\n",
    "        sample_indicies_to_add = [i for i in sample_indicies if (window_time[0] < i < window_time[1])]\n",
    "        \n",
    "        if event_number > 0:\n",
    "            indicies_from_trigger_channel_by_sweep[sweep] = sample_indicies_to_add\n",
    "\n",
    "    return(indicies_from_trigger_channel_by_sweep)\n",
    "\n",
    "def align_on_trigger(class_name, channel_to_trigger, channels_to_align, amplitdue_threshold, time_threshold, \n",
    "                     time_region, window_time=(0,0)):\n",
    "    \"\"\"\n",
    "    Output: dataframe of trace regions surrounding threshold for all channels\n",
    "    \"\"\"\n",
    "    \n",
    "    # call return indicies to get sample indicies\n",
    "    \n",
    "    indicies_from_trigger_channel = return_indicies(class_name, channel_to_trigger, \n",
    "                                                    amplitdue_threshold, time_threshold, window_time)\n",
    "    \n",
    "    by_channel_by_sweep = {}\n",
    "    region_in_samples = time_region*class_name.Fs\n",
    "    \n",
    "    channels_to_align.append(channel_to_trigger)\n",
    "    for channel in channels_to_align:\n",
    "        for sweep in sorted(list(set(class_name.class_df.index.get_level_values(0)))):\n",
    "            if sweep in list(indicies_from_trigger_channel.keys()):\n",
    "                \n",
    "                by_index = {}\n",
    "                for i in indicies_from_trigger_channel[sweep]:\n",
    "            \n",
    "                    \n",
    "                    if int(i-region_in_samples) < 0:\n",
    "                        trace_region = np.pad(class_name.class_df.loc[sweep][channel].values[0:int(i+region_in_samples)], \n",
    "                                              (int(region_in_samples*2)-int(i+region_in_samples), 0), 'constant', constant_values=np.nan)\n",
    "                    \n",
    "                    \n",
    "                    elif int(i+region_in_samples) > len(class_name.class_df.loc[sweep][channel].values):\n",
    "                        trace_region = np.pad(class_name.class_df.loc[sweep][channel].values[(i-region_in_samples):], \n",
    "                                              (0, int(i+region_in_samples)-len(class_name.class_df.loc[sweep][channel].values))\n",
    "                                              , 'constant', constant_values=np.nan)\n",
    "                        \n",
    "                    else:\n",
    "                        trace_region = class_name.class_df.loc[sweep][channel].values[int(i-region_in_samples):int(i+region_in_samples)]\n",
    "\n",
    "                    by_index[i] = trace_region\n",
    "                    \n",
    "                index = list(range(int(-region_in_samples), int(region_in_samples)))\n",
    "        \n",
    "                by_index = pd.DataFrame(by_index)\n",
    "                                                                \n",
    "                by_channel_by_sweep[(channel, sweep)] = by_index\n",
    "            else:\n",
    "                pass\n",
    "             \n",
    "    return(by_channel_by_sweep)\n",
    "        \n",
    "        \n",
    "def average_sweep_responses(dict_of_dfs):\n",
    "    \n",
    "    channels = list(set((list(regions.keys()))[i][0] for i in range(len(regions.keys()))))\n",
    "    sweeps = list(set((list(regions.keys()))[i][1] for i in range(len(regions.keys()))))\n",
    "    \n",
    "    channel_means = {}\n",
    "    \n",
    "    for channel in channels:\n",
    "        list_to_concat = []\n",
    "        for sweep in sweeps:\n",
    "            for key in list(dict_of_dfs.keys()):\n",
    "                if channel in key:\n",
    "                    list_to_concat.append(regions[key].mean(axis=1))\n",
    "        \n",
    "        channel_means[channel] = pd.concat(list_to_concat, axis=1).mean(axis=1)\n",
    "        \n",
    "    mean_df = pd.DataFrame(channel_means)\n",
    "    \n",
    "    return(mean_df)\n",
    "        \n",
    "    "
   ]
  },
  {
   "cell_type": "code",
   "execution_count": null,
   "metadata": {},
   "outputs": [],
   "source": [
    "_recording_demod_F_F0_endcodervariance.class_df['encoder_windowed_variance'].mean()"
   ]
  },
  {
   "cell_type": "code",
   "execution_count": null,
   "metadata": {},
   "outputs": [],
   "source": [
    "_recording_demod_F_F0_endcodervariance.class_df['encoder_windowed_variance'].std()"
   ]
  },
  {
   "cell_type": "code",
   "execution_count": null,
   "metadata": {},
   "outputs": [],
   "source": [
    "np.mean(_recording_demod_F_F0_endcodervariance.class_df['encoder_windowed_variance'].values)"
   ]
  },
  {
   "cell_type": "code",
   "execution_count": null,
   "metadata": {},
   "outputs": [],
   "source": [
    "np.std(_recording_demod_F_F0_endcodervariance.class_df['encoder_windowed_variance'].values)"
   ]
  },
  {
   "cell_type": "code",
   "execution_count": null,
   "metadata": {},
   "outputs": [],
   "source": [
    "regions = align_on_trigger(_recording_demod_F_F0_endcodervariance, \n",
    "                                                     'encoder_windowed_variance', \n",
    "                                                     ['channel_1_demod_F_F0', 'channel_2_demod_F_F0'],\n",
    "                                                     8, \n",
    "                                                     1000, \n",
    "                                                     5)"
   ]
  },
  {
   "cell_type": "code",
   "execution_count": null,
   "metadata": {},
   "outputs": [],
   "source": [
    "regions[('encoder_windowed_variance', 'sweep013')]"
   ]
  },
  {
   "cell_type": "code",
   "execution_count": null,
   "metadata": {},
   "outputs": [],
   "source": [
    "mean_df = average_sweep_responses(regions)"
   ]
  },
  {
   "cell_type": "code",
   "execution_count": null,
   "metadata": {},
   "outputs": [],
   "source": [
    "list(regions.keys())"
   ]
  },
  {
   "cell_type": "code",
   "execution_count": null,
   "metadata": {
    "scrolled": false
   },
   "outputs": [],
   "source": [
    "plt.subplot(3,1,1)\n",
    "plt.plot(mean_df['encoder_windowed_variance'].values)\n",
    "plt.xlabel('time (samples (10000Hz))')\n",
    "plt.ylabel('encoder variance')\n",
    "plt.subplot(3,1,2)\n",
    "plt.plot(mean_df['channel_1_demod_F_F0'].values)\n",
    "plt.xlabel('time (samples (10000Hz))')\n",
    "plt.ylabel('F/F0 488')\n",
    "plt.subplot(3,1,3)\n",
    "plt.plot(mean_df['channel_2_demod_F_F0'].values)\n",
    "plt.xlabel('time (samples (10000Hz))')\n",
    "plt.ylabel('F/F0 405')\n",
    "plt.show()"
   ]
  },
  {
   "cell_type": "code",
   "execution_count": null,
   "metadata": {},
   "outputs": [],
   "source": [
    "mean_df"
   ]
  }
 ],
 "metadata": {
  "kernelspec": {
   "display_name": "Python 3",
   "language": "python",
   "name": "python3"
  },
  "language_info": {
   "codemirror_mode": {
    "name": "ipython",
    "version": 3
   },
   "file_extension": ".py",
   "mimetype": "text/x-python",
   "name": "python",
   "nbconvert_exporter": "python",
   "pygments_lexer": "ipython3",
   "version": "3.6.5"
  }
 },
 "nbformat": 4,
 "nbformat_minor": 2
}
